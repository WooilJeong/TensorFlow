{
 "cells": [
  {
   "cell_type": "markdown",
   "metadata": {},
   "source": [
    "# Multiple Linear Regression\n",
    "\n",
    "We previously discussed the Simple Linear Regression Model. This time, we will look at Hypothesis, Cost Function, and Minimizing Cost of Multiple Linear Regression Model.\n",
    "\n",
    "## (Review) Simple Linear Regression Model\n",
    "\n",
    "### Hypothesis\n",
    "\n",
    "$$\n",
    "H(x) = Wx + b\n",
    "$$\n",
    "\n",
    "\n",
    "### Cost Function\n",
    "\n",
    "$$\n",
    "cost(W) = {1 \\over 2m} {\\sum_{i=1}^m} (Wx_i-y_i)^2\n",
    "$$\n",
    "\n",
    "\n",
    "### Gradient Descent Algorithm\n",
    "\n",
    "$$\n",
    "W := W - \\alpha{1 \\over m} {\\sum_{i=1}^m} (Wx_i-y_i) x_i\n",
    "$$"
   ]
  },
  {
   "cell_type": "markdown",
   "metadata": {},
   "source": [
    "## Multiple Linear Regression Model\n",
    "\n",
    "Let's take a look at the model with 3 features.\n",
    "\n",
    "### Hypothesis and Cost Function\n",
    "\n",
    "$$\n",
    "H(x_1, x_2, x_3) = w_1x_1+w_2x_2+w_3x_3+b\n",
    "$$\n",
    "\n",
    "$$\n",
    "cost(W, b) = {1 \\over m} {\\sum_{i=1}^m} (H(x_{i1}, x_{i2}, x_{i3})-y_i)^2\n",
    "$$"
   ]
  },
  {
   "cell_type": "markdown",
   "metadata": {},
   "source": [
    "### Hypothesis Using Matrix\n",
    "\n",
    "$$\n",
    "H(X)=XW=\n",
    "\\begin{pmatrix} x_1 & x_2 & x_3 \\end{pmatrix} \\cdot \n",
    "\\begin{pmatrix} w_1 \\\\ w_2 \\\\ w_3 \\end{pmatrix} =\n",
    "\\begin{pmatrix} x_1w_1 + x_2w_2 + x_3w_3 \\end{pmatrix}\n",
    "$$\n"
   ]
  },
  {
   "cell_type": "markdown",
   "metadata": {},
   "source": [
    "## Predicting exam score\n",
    "\n",
    "Suppose you have a quiz1, quiz2, or midterm score that predicts a final exam score. Five data are given as follows.\n",
    "\n",
    "$x_1$(Quiz1) | $x_2$(Quiz2) | $x_3$(Midterm) | $y$(Final)\n",
    "------------ | ------------ | -------------- | ----------\n",
    "80           | 75           | 90             | 85\n",
    "65           | 55           | 60             | 70\n",
    "35           | 55           | 45             | 60\n",
    "78           | 85           | 80             | 78\n",
    "95           | 90           | 94             | 98\n"
   ]
  },
  {
   "cell_type": "markdown",
   "metadata": {},
   "source": [
    "### Hypothesis in this case\n",
    "\n",
    "$$\n",
    "H(X) = XW\n",
    "$$\n",
    "\n",
    "$$\n",
    "\\begin{pmatrix}\n",
    "x_{11} & x_{12} & x_{13} \\\\\n",
    "x_{21} & x_{22} & x_{23} \\\\\n",
    "x_{31} & x_{32} & x_{33} \\\\\n",
    "x_{41} & x_{42} & x_{43} \\\\\n",
    "x_{51} & x_{52} & x_{53}\n",
    "\\end{pmatrix} \n",
    "\\cdot \n",
    "\\begin{pmatrix} w_1 \\\\ w_2 \\\\ w_3 \\end{pmatrix}=\n",
    "\\begin{pmatrix} \n",
    "x_{11}w_{1} + x_{12}w_{2} + x_{13}w_{3} \\\\\n",
    "x_{21}w_{1} + x_{22}w_{2} + x_{23}w_{3} \\\\\n",
    "x_{31}w_{1} + x_{32}w_{2} + x_{33}w_{3} \\\\\n",
    "x_{41}w_{1} + x_{42}w_{2} + x_{43}w_{3} \\\\\n",
    "x_{51}w_{1} + x_{52}w_{2} + x_{53}w_{3} \\\\\n",
    "\\end{pmatrix}\n",
    "$$"
   ]
  },
  {
   "cell_type": "markdown",
   "metadata": {},
   "source": [
    "### Libraries"
   ]
  },
  {
   "cell_type": "code",
   "execution_count": 1,
   "metadata": {},
   "outputs": [
    {
     "name": "stdout",
     "output_type": "stream",
     "text": [
      "TensorFlow Version: 2.0.0\n"
     ]
    }
   ],
   "source": [
    "import numpy as np\n",
    "import tensorflow as tf\n",
    "print(\"TensorFlow Version: %s\" % tf.__version__)"
   ]
  },
  {
   "cell_type": "markdown",
   "metadata": {},
   "source": [
    "### A. Computing without Matrix operations\n",
    "\n",
    "Problems can be solved without matrix operations. However, it is troublesome to assign variables individually as follows."
   ]
  },
  {
   "cell_type": "code",
   "execution_count": 2,
   "metadata": {},
   "outputs": [
    {
     "name": "stdout",
     "output_type": "stream",
     "text": [
      "#0 \t cost: 19095.684\n",
      "#200 \t cost: 5163.9473\n",
      "#400 \t cost: 1452.9823\n",
      "#600 \t cost: 464.43408\n",
      "#800 \t cost: 201.04555\n",
      "#1000 \t cost: 130.81319\n",
      "#1200 \t cost: 112.03182\n",
      "#1400 \t cost: 106.954956\n",
      "#1600 \t cost: 105.52873\n",
      "#1800 \t cost: 105.075134\n",
      "#2000 \t cost: 104.88092\n"
     ]
    }
   ],
   "source": [
    "# Data\n",
    "x1 = [80., 65., 35., 78., 95.]\n",
    "x2 = [75., 55., 55., 85., 90.]\n",
    "x3 = [90., 60., 45., 80., 94.]\n",
    "y  = [85., 70., 60., 78., 98.]\n",
    "\n",
    "# Weights\n",
    "tf.random.set_seed(2020)\n",
    "w1 = tf.Variable(tf.random.normal([1], mean=0.0))\n",
    "w2 = tf.Variable(tf.random.normal([1], mean=0.0))\n",
    "w3 = tf.Variable(tf.random.normal([1], mean=0.0))\n",
    "b  = tf.Variable(tf.random.normal([1], mean=0.0))\n",
    "\n",
    "# Learning Rate\n",
    "learning_rate = 0.0000001\n",
    "\n",
    "# Training\n",
    "for i in range(2000+1):\n",
    "    \n",
    "    with tf.GradientTape() as tape:\n",
    "        hypothesis = w1*x1 + w2*x2 + w3*x3 + b\n",
    "        cost = tf.reduce_mean(tf.square(hypothesis - y))\n",
    "        w1_grad, w2_grad, w3_grad, b_grad = tape.gradient(cost, [w1, w2, w3, b])\n",
    "    \n",
    "    w1.assign_sub(learning_rate * w1_grad)\n",
    "    w2.assign_sub(learning_rate * w2_grad)\n",
    "    w3.assign_sub(learning_rate * w3_grad)\n",
    "    b.assign_sub(learning_rate * b_grad)\n",
    "    \n",
    "    if i % 200 == 0:\n",
    "        print(\"#%s \\t cost: %s\" % (i, cost.numpy()))"
   ]
  },
  {
   "cell_type": "markdown",
   "metadata": {},
   "source": [
    "### B. Computing with matrix operations\n",
    "\n",
    "Unlike the method introduced above, using matrix computation can solve the problem very concisely."
   ]
  },
  {
   "cell_type": "markdown",
   "metadata": {},
   "source": [
    "## Predicting exam score\n",
    "\n",
    "$x_1$(Quiz1) | $x_2$(Quiz2) | $x_3$(Midterm) | $y$(Final)\n",
    "------------ | ------------ | -------------- | ----------\n",
    "80           | 75           | 90             | 85\n",
    "65           | 55           | 60             | 70\n",
    "35           | 55           | 45             | 60\n",
    "78           | 85           | 80             | 78\n",
    "95           | 90           | 94             | 98\n"
   ]
  },
  {
   "cell_type": "code",
   "execution_count": 3,
   "metadata": {},
   "outputs": [],
   "source": [
    "# Data\n",
    "data = np.array([\n",
    "    \n",
    "    [80., 75., 90., 85.],\n",
    "    [65., 55., 60., 70.],\n",
    "    [35., 55., 45., 60.],\n",
    "    [78., 85., 80., 78.],\n",
    "    [95., 90., 94., 98.]\n",
    "], dtype = np.float32)\n",
    "\n",
    "# Slice Data\n",
    "X = data[:, :-1]\n",
    "Y = data[:, [-1]]"
   ]
  },
  {
   "cell_type": "code",
   "execution_count": 4,
   "metadata": {},
   "outputs": [
    {
     "data": {
      "text/plain": [
       "array([[80., 75., 90.],\n",
       "       [65., 55., 60.],\n",
       "       [35., 55., 45.],\n",
       "       [78., 85., 80.],\n",
       "       [95., 90., 94.]], dtype=float32)"
      ]
     },
     "execution_count": 4,
     "metadata": {},
     "output_type": "execute_result"
    }
   ],
   "source": [
    "X"
   ]
  },
  {
   "cell_type": "code",
   "execution_count": 5,
   "metadata": {},
   "outputs": [
    {
     "data": {
      "text/plain": [
       "array([[85.],\n",
       "       [70.],\n",
       "       [60.],\n",
       "       [78.],\n",
       "       [98.]], dtype=float32)"
      ]
     },
     "execution_count": 5,
     "metadata": {},
     "output_type": "execute_result"
    }
   ],
   "source": [
    "Y"
   ]
  },
  {
   "cell_type": "code",
   "execution_count": 6,
   "metadata": {},
   "outputs": [
    {
     "name": "stdout",
     "output_type": "stream",
     "text": [
      "#0 \t cost: 7769.522\n",
      "#200 \t cost: 2113.2505\n",
      "#400 \t cost: 606.6113\n",
      "#600 \t cost: 205.28519\n",
      "#800 \t cost: 98.37294\n",
      "#1000 \t cost: 69.8826\n",
      "#1200 \t cost: 62.28067\n",
      "#1400 \t cost: 60.242634\n",
      "#1600 \t cost: 59.686646\n",
      "#1800 \t cost: 59.52544\n",
      "#2000 \t cost: 59.46943\n"
     ]
    }
   ],
   "source": [
    "# Weights\n",
    "tf.random.set_seed(2020)\n",
    "W = tf.Variable(tf.random.normal([3, 1], mean=0.0))\n",
    "b = tf.Variable(tf.random.normal([1], mean=0.0))\n",
    "\n",
    "# Learning Rate\n",
    "learning_rate = 0.0000001\n",
    "\n",
    "# Hypothesis and Prediction Function\n",
    "def predict(X):\n",
    "    return tf.matmul(X, W) + b\n",
    "\n",
    "# Training\n",
    "for i in range(2000+1):\n",
    "    \n",
    "    with tf.GradientTape() as tape:\n",
    "        cost = tf.reduce_mean(tf.square(predict(X) - Y))\n",
    "        W_grad, b_grad = tape.gradient(cost, [W, b])\n",
    "          \n",
    "    W.assign_sub(learning_rate * W_grad)\n",
    "    b.assign_sub(learning_rate * b_grad)\n",
    "    \n",
    "    if i % 200 == 0:\n",
    "        print(\"#%s \\t cost: %s\" % (i, cost.numpy()))"
   ]
  },
  {
   "cell_type": "code",
   "execution_count": null,
   "metadata": {},
   "outputs": [],
   "source": []
  }
 ],
 "metadata": {
  "kernelspec": {
   "display_name": "Python 3",
   "language": "python",
   "name": "python3"
  },
  "language_info": {
   "codemirror_mode": {
    "name": "ipython",
    "version": 3
   },
   "file_extension": ".py",
   "mimetype": "text/x-python",
   "name": "python",
   "nbconvert_exporter": "python",
   "pygments_lexer": "ipython3",
   "version": "3.7.4"
  }
 },
 "nbformat": 4,
 "nbformat_minor": 2
}
