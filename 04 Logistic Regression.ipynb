{
 "cells": [
  {
   "cell_type": "markdown",
   "metadata": {},
   "source": [
    "# Logistic Regression"
   ]
  },
  {
   "cell_type": "markdown",
   "metadata": {},
   "source": [
    "## (Review) Multiple Linear Regression\n",
    "\n",
    "### Hypothesis\n",
    "\n",
    "$$\n",
    "H(X) = XW\n",
    "$$\n",
    "\n",
    "\n",
    "### Cost Function\n",
    "\n",
    "$$\n",
    "Cost(W) = {1 \\over m} {\\sum_{i=1}^m} (H(X_i)-Y_i)^2\n",
    "$$\n",
    "\n",
    "\n",
    "### Minimizing Cost\n",
    "\n",
    "$$\n",
    "W_{new} = W_{old} - \\alpha {\\partial \\over \\partial W} Cost(W)\n",
    "$$\n"
   ]
  },
  {
   "cell_type": "markdown",
   "metadata": {},
   "source": [
    "## Logistic Regression\n",
    "\n",
    "### Hypothesis\n",
    "\n",
    "$$\n",
    "{H(X)} = {1 \\over {1+ e^{-XW}}}\n",
    "$$\n",
    "\n",
    "### Cost Function\n",
    "\n",
    "$$\n",
    "Cost(W) = {1 \\over m} {\\sum_{i=1}^m c(H(x_{i}), y_{i})}\n",
    "$$\n",
    "\n",
    "$$\n",
    "c(H(x), y) = \\begin{cases}-log(H(x)) : y=1 \\\\ -log(1-H(x)) : y=0\\end{cases} \n",
    "= -y log(H(x)) - (1-y) log(1-H(x))\n",
    "$$\n",
    "\n",
    "### Minimizing Cost\n",
    "\n",
    "$$\n",
    "W_{new} = W_{old} - \\alpha {\\partial \\over \\partial W} Cost(W)\n",
    "$$"
   ]
  },
  {
   "cell_type": "markdown",
   "metadata": {},
   "source": [
    "## Implement"
   ]
  },
  {
   "cell_type": "code",
   "execution_count": 1,
   "metadata": {},
   "outputs": [
    {
     "name": "stdout",
     "output_type": "stream",
     "text": [
      "TensorFlow Version: 2.0.0\n"
     ]
    }
   ],
   "source": [
    "import tensorflow as tf\n",
    "import numpy as np\n",
    "import pandas as pd\n",
    "import seaborn as sns\n",
    "import matplotlib.pyplot as plt\n",
    "\n",
    "print(\"TensorFlow Version: %s\" % (tf.__version__))"
   ]
  },
  {
   "cell_type": "markdown",
   "metadata": {},
   "source": [
    "## Data"
   ]
  },
  {
   "cell_type": "code",
   "execution_count": 2,
   "metadata": {},
   "outputs": [],
   "source": [
    "# Data for train\n",
    "x_train = np.array([[1., 1.],\n",
    "                   [1., 2.],\n",
    "                   [2., 1.],\n",
    "                   [3., 2.],\n",
    "                   [3., 3.],\n",
    "                   [2., 3.]],\n",
    "                   dtype=np.float32)\n",
    "\n",
    "y_train = np.array([[0.],\n",
    "                   [0.],\n",
    "                   [0.],\n",
    "                   [1.],\n",
    "                   [1.],\n",
    "                   [1.]],\n",
    "                   dtype=np.float32)\n",
    "\n",
    "# Data for test\n",
    "x_test = np.array([[3., 0.],\n",
    "                   [4., 1.]],\n",
    "                   dtype=np.float32)\n",
    "\n",
    "y_test = np.array([[0.],\n",
    "                   [1.]],\n",
    "                   dtype=np.float32)"
   ]
  },
  {
   "cell_type": "markdown",
   "metadata": {},
   "source": [
    "## Visualization"
   ]
  },
  {
   "cell_type": "code",
   "execution_count": 3,
   "metadata": {},
   "outputs": [
    {
     "data": {
      "image/png": "[encoded data removed]",
      "text/plain": [
       "<Figure size 432x432 with 1 Axes>"
      ]
     },
     "metadata": {
      "needs_background": "light"
     },
     "output_type": "display_data"
    }
   ],
   "source": [
    "df = pd.DataFrame(x_train, columns=['x1','x2'])\n",
    "df['y'] = y_train\n",
    "\n",
    "df_test = pd.DataFrame(x_test, columns=['x1','x2'])\n",
    "df_test['y'] = y_test\n",
    "\n",
    "plt.figure(figsize=(6,6))\n",
    "sns.scatterplot(x='x1', y='x2', hue='y', data=df, s=500)\n",
    "sns.scatterplot(x='x1', y='x2', color='red', data=df_test, s=500)\n",
    "plt.xlim(0, 5)\n",
    "plt.ylim(-1, 4)\n",
    "plt.legend(loc='lower right')\n",
    "plt.show()"
   ]
  },
  {
   "cell_type": "markdown",
   "metadata": {},
   "source": [
    "## Initializing Weights"
   ]
  },
  {
   "cell_type": "code",
   "execution_count": 8,
   "metadata": {},
   "outputs": [
    {
     "name": "stdout",
     "output_type": "stream",
     "text": [
      "# Weights: \n",
      " [[-0.10099822]\n",
      " [ 0.6847899 ]] \n",
      "\n",
      "# Bias: \n",
      " [0.38414612]\n"
     ]
    }
   ],
   "source": [
    "# Weights\n",
    "tf.random.set_seed(2020)\n",
    "W = tf.Variable(tf.random.normal([2, 1], mean=0.0))\n",
    "b = tf.Variable(tf.random.normal([1], mean=0.0))\n",
    "\n",
    "print('# Weights: \\n', W.numpy(), '\\n\\n# Bias: \\n', b.numpy())"
   ]
  },
  {
   "cell_type": "markdown",
   "metadata": {},
   "source": [
    "## Train the model"
   ]
  },
  {
   "cell_type": "code",
   "execution_count": 9,
   "metadata": {
    "scrolled": true
   },
   "outputs": [
    {
     "name": "stdout",
     "output_type": "stream",
     "text": [
      ">>> #0 \n",
      " Weights: \n",
      "[[-0.11992227]\n",
      " [ 0.66358066]] \n",
      " Bias: \n",
      "[0.36538637] \n",
      " cost: 4.759439\n",
      "\n",
      ">>> #400 \n",
      " Weights: \n",
      "[[0.61899596]\n",
      " [0.7487086 ]] \n",
      " Bias: \n",
      "[-2.3262427] \n",
      " cost: 2.1940103\n",
      "\n",
      ">>> #800 \n",
      " Weights: \n",
      "[[1.058025 ]\n",
      " [1.0836021]] \n",
      " Bias: \n",
      "[-3.9347079] \n",
      " cost: 1.4598237\n",
      "\n",
      ">>> #1200 \n",
      " Weights: \n",
      "[[1.3448476]\n",
      " [1.3511039]] \n",
      " Bias: \n",
      "[-5.073361] \n",
      " cost: 1.094249\n",
      "\n",
      ">>> #1600 \n",
      " Weights: \n",
      "[[1.562529 ]\n",
      " [1.5643576]] \n",
      " Bias: \n",
      "[-5.95332] \n",
      " cost: 0.8763469\n",
      "\n",
      ">>> #2000 \n",
      " Weights: \n",
      "[[1.7395078]\n",
      " [1.7401232]] \n",
      " Bias: \n",
      "[-6.670953] \n",
      " cost: 0.7315402\n",
      "\n"
     ]
    }
   ],
   "source": [
    "# Learning Rate\n",
    "learning_rate = 0.01\n",
    "\n",
    "# Hypothesis and Prediction Function\n",
    "def predict(X):\n",
    "    z = tf.matmul(X, W) + b\n",
    "    hypothesis = 1 / (1 + tf.exp(-z))\n",
    "    return hypothesis\n",
    "\n",
    "# Training\n",
    "for i in range(2000+1):\n",
    "    \n",
    "    with tf.GradientTape() as tape:\n",
    "        \n",
    "        hypothesis = predict(x_train)\n",
    "        cost = tf.reduce_mean(-tf.reduce_sum(y_train*tf.math.log(hypothesis) + (1-y_train)*tf.math.log(1-hypothesis)))        \n",
    "        W_grad, b_grad = tape.gradient(cost, [W, b])\n",
    "                \n",
    "        W.assign_sub(learning_rate * W_grad)\n",
    "        b.assign_sub(learning_rate * b_grad)\n",
    "    \n",
    "    if i % 400 == 0:\n",
    "        print(\">>> #%s \\n Weights: \\n%s \\n Bias: \\n%s \\n cost: %s\\n\" % (i, W.numpy(), b.numpy(), cost.numpy()))"
   ]
  },
  {
   "cell_type": "markdown",
   "metadata": {},
   "source": [
    "## Predict"
   ]
  },
  {
   "cell_type": "code",
   "execution_count": 12,
   "metadata": {},
   "outputs": [
    {
     "name": "stdout",
     "output_type": "stream",
     "text": [
      "Prob: \n",
      " [[0.18962799]\n",
      " [0.8836236 ]]\n",
      "Result: \n",
      " [[0.]\n",
      " [1.]]\n"
     ]
    }
   ],
   "source": [
    "hypo = predict(x_test)\n",
    "print(\"Prob: \\n\", hypo.numpy())\n",
    "print(\"Result: \\n\", tf.cast(hypo > 0.5, dtype=tf.float32).numpy())"
   ]
  },
  {
   "cell_type": "code",
   "execution_count": 13,
   "metadata": {},
   "outputs": [
    {
     "name": "stdout",
     "output_type": "stream",
     "text": [
      "Accuracy: 1.0\n"
     ]
    }
   ],
   "source": [
    "def acc(hypo, label):\n",
    "    predicted = tf.cast(hypo > 0.5, dtype=tf.float32)\n",
    "    accuracy = tf.reduce_mean(tf.cast(tf.equal(predicted, label), dtype=tf.float32))\n",
    "    return accuracy\n",
    "\n",
    "accuracy = acc(predict(x_test), y_test).numpy()\n",
    "print(\"Accuracy: %s\" % accuracy)"
   ]
  }
 ],
 "metadata": {
  "kernelspec": {
   "display_name": "Python 3",
   "language": "python",
   "name": "python3"
  },
  "language_info": {
   "codemirror_mode": {
    "name": "ipython",
    "version": 3
   },
   "file_extension": ".py",
   "mimetype": "text/x-python",
   "name": "python",
   "nbconvert_exporter": "python",
   "pygments_lexer": "ipython3",
   "version": "3.7.4"
  }
 },
 "nbformat": 4,
 "nbformat_minor": 2
}
