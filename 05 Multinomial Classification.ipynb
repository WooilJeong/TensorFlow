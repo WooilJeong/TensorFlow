{
 "cells": [
  {
   "cell_type": "markdown",
   "metadata": {},
   "source": [
    "# Multinomial Classification"
   ]
  },
  {
   "cell_type": "markdown",
   "metadata": {},
   "source": [
    "## (Review) Logistic Regression\n",
    "\n",
    "### Hypothesis\n",
    "\n",
    "$$\n",
    "{H(X)} = {1 \\over {1+ e^{-XW}}}\n",
    "$$\n",
    "\n",
    "### Cost Function\n",
    "\n",
    "$$\n",
    "Cost(W) = {1 \\over m} {\\sum_{i=1}^m c(H(x_{i}), y_{i})}\n",
    "$$\n",
    "\n",
    "### Cross Entropy in Logistic Classification\n",
    "\n",
    "$$\n",
    "c(H(x), y) = \\begin{cases}-log(H(x)) : y=1 \\\\ -log(1-H(x)) : y=0\\end{cases} \n",
    "= -y log(H(x)) - (1-y) log(1-H(x))\n",
    "$$\n",
    "\n",
    "### Minimizing Cost\n",
    "\n",
    "$$\n",
    "W_{new} = W_{old} - \\alpha {\\partial \\over {\\partial W}} Cost(W)\n",
    "$$"
   ]
  },
  {
   "cell_type": "markdown",
   "metadata": {},
   "source": [
    "## Multinomial Classification\n",
    "\n",
    "### Softmax Function (Hypothesis)\n",
    "\n",
    "$$\n",
    "S(y_{i}) = {{e^{y_i}} \\over {\\sum_{j=1}^n e^{y_{j}}}} \\\\\n",
    "\\\\\n",
    "n: Number\\ of\\ classes \\\\\n",
    "\\\\\n",
    "i: i\\ class\n",
    "$$\n",
    "\n",
    "### Cost Function\n",
    "\n",
    "$$\n",
    "Cost(W) = {1 \\over m} {\\sum_{i=1}^m D(S(X_{i}W + b),L_{i})} \\\\\n",
    "\\\\\n",
    "m: Number\\ of\\ instances \\\\\n",
    "\\\\\n",
    "i: i\\ instance\n",
    "$$\n",
    "\n",
    "### Cross Entropy in Multinomial Classification\n",
    "\n",
    "$$\n",
    "D(S, L) = - \\sum_{j=1}^n L_{j} log(S(y_{j})) \\\\\n",
    "\\\\\n",
    "n: Number\\ of\\ classes \\\\\n",
    "\\\\\n",
    "j: j\\ class\n",
    "$$\n",
    "\n",
    "### Minimizing Cost\n",
    "\n",
    "$$\n",
    "W_{new} = W_{old} - \\alpha {\\partial \\over {\\partial W}} Cost(W)\n",
    "$$"
   ]
  },
  {
   "cell_type": "markdown",
   "metadata": {},
   "source": [
    "## Implement"
   ]
  },
  {
   "cell_type": "code",
   "execution_count": 2,
   "metadata": {},
   "outputs": [
    {
     "name": "stdout",
     "output_type": "stream",
     "text": [
      "TensorFlow Version: 2.0.0\n"
     ]
    }
   ],
   "source": [
    "import tensorflow as tf\n",
    "import numpy as np\n",
    "import pandas as pd\n",
    "import seaborn as sns\n",
    "import matplotlib.pyplot as plt\n",
    "\n",
    "print(\"TensorFlow Version: %s\" % (tf.__version__))"
   ]
  },
  {
   "cell_type": "markdown",
   "metadata": {},
   "source": [
    "## Data"
   ]
  },
  {
   "cell_type": "code",
   "execution_count": 7,
   "metadata": {},
   "outputs": [],
   "source": [
    "x_data = [[1, 2, 1, 1],\n",
    "          [2, 1, 3, 2],\n",
    "          [3, 1, 3, 4],\n",
    "          [4, 1, 5, 5],\n",
    "          [1, 7, 5, 5],\n",
    "          [1, 2, 5, 6],\n",
    "          [1, 6, 6, 6],\n",
    "          [1, 7, 7, 7]]\n",
    "\n",
    "y_data = [[0, 0, 1],\n",
    "          [0, 0, 1],\n",
    "          [0, 0, 1],\n",
    "          [0, 1, 0],\n",
    "          [0, 1, 0],\n",
    "          [0, 1, 0],\n",
    "          [1, 0, 0],\n",
    "          [1, 0, 0]]\n",
    "\n",
    "x_data = np.array(x_data, dtype=np.float32)\n",
    "y_data = np.array(y_data, dtype=np.float32)\n",
    "\n",
    "nb_classes = 3"
   ]
  },
  {
   "cell_type": "code",
   "execution_count": 26,
   "metadata": {},
   "outputs": [
    {
     "name": "stdout",
     "output_type": "stream",
     "text": [
      "# Weights: \n",
      " [[-0.10099822  0.6847899   1.6258513 ]\n",
      " [ 0.88112587 -0.63692456 -0.1427695 ]\n",
      " [ 0.82411087 -0.91326994 -0.4510184 ]\n",
      " [ 0.58053356  1.3066356  -0.60428965]] \n",
      "\n",
      "# Bias: \n",
      " [ 0.38414612 -0.6159301  -0.5453214 ]\n"
     ]
    }
   ],
   "source": [
    "# Weights\n",
    "tf.random.set_seed(2020)\n",
    "W = tf.Variable(tf.random.normal([4, nb_classes], mean=0.0))\n",
    "b = tf.Variable(tf.random.normal([nb_classes], mean=0.0))\n",
    "\n",
    "print('# Weights: \\n', W.numpy(), '\\n\\n# Bias: \\n', b.numpy())"
   ]
  },
  {
   "cell_type": "code",
   "execution_count": null,
   "metadata": {},
   "outputs": [],
   "source": [
    "# Learning Rate\n",
    "learning_rate = 0.01\n",
    "\n",
    "# Hypothesis and Prediction Function\n",
    "def predict(X):\n",
    "    hypothesis = tf.nn.softmax(tf.matmul(x_data, W) + b)\n",
    "    return hypothesis\n",
    "\n",
    "# Training\n",
    "for i in range(2000+1):\n",
    "    \n",
    "    with tf.GradientTape() as tape:\n",
    "        \n",
    "        hypothesis = predict(x_train)\n",
    "        cost = tf.reduce_mean(-tf.reduce_sum(y_train*tf.math.log(hypothesis) + (1-y_train)*tf.math.log(1-hypothesis)))        \n",
    "        W_grad, b_grad = tape.gradient(cost, [W, b])\n",
    "                \n",
    "        W.assign_sub(learning_rate * W_grad)\n",
    "        b.assign_sub(learning_rate * b_grad)\n",
    "    \n",
    "    if i % 400 == 0:\n",
    "        print(\">>> #%s \\n Weights: \\n%s \\n Bias: \\n%s \\n cost: %s\\n\" % (i, W.numpy(), b.numpy(), cost.numpy()))"
   ]
  },
  {
   "cell_type": "code",
   "execution_count": 27,
   "metadata": {},
   "outputs": [
    {
     "data": {
      "text/plain": [
       "<tf.Tensor: id=101, shape=(8, 3), dtype=float32, numpy=\n",
       "array([[9.6286476e-01, 1.3575208e-02, 2.3560027e-02],\n",
       "       [9.8214459e-01, 8.8751027e-03, 8.9803627e-03],\n",
       "       [9.1783530e-01, 7.7751756e-02, 4.4128583e-03],\n",
       "       [9.8761183e-01, 1.1750807e-02, 6.3734938e-04],\n",
       "       [9.9999988e-01, 1.2473994e-07, 7.7960598e-09],\n",
       "       [9.9948967e-01, 5.0995382e-04, 3.9852188e-07],\n",
       "       [9.9999976e-01, 2.0705905e-07, 1.8543984e-09],\n",
       "       [1.0000000e+00, 1.6505206e-08, 5.6909893e-11]], dtype=float32)>"
      ]
     },
     "execution_count": 27,
     "metadata": {},
     "output_type": "execute_result"
    }
   ],
   "source": [
    "hypothesis = tf.nn.softmax(tf.matmul(x_data, W) + b)\n",
    "hypothesis"
   ]
  },
  {
   "cell_type": "code",
   "execution_count": null,
   "metadata": {},
   "outputs": [],
   "source": [
    "cost = tf.reduce_mean()"
   ]
  },
  {
   "cell_type": "code",
   "execution_count": null,
   "metadata": {},
   "outputs": [],
   "source": []
  },
  {
   "cell_type": "code",
   "execution_count": null,
   "metadata": {},
   "outputs": [],
   "source": []
  }
 ],
 "metadata": {
  "kernelspec": {
   "display_name": "Python 3",
   "language": "python",
   "name": "python3"
  },
  "language_info": {
   "codemirror_mode": {
    "name": "ipython",
    "version": 3
   },
   "file_extension": ".py",
   "mimetype": "text/x-python",
   "name": "python",
   "nbconvert_exporter": "python",
   "pygments_lexer": "ipython3",
   "version": "3.7.4"
  }
 },
 "nbformat": 4,
 "nbformat_minor": 2
}
