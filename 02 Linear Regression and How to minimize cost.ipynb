{
 "cells": [
  {
   "cell_type": "markdown",
   "metadata": {},
   "source": [
    "# How to minimize cost in Linear Regression Model\n",
    "\n",
    "We will define a cost function in a simple linear regression model and minimize the cost value."
   ]
  },
  {
   "cell_type": "markdown",
   "metadata": {},
   "source": [
    "## Hypothesis\n",
    "\n",
    "$$\n",
    "H(x) = Wx\n",
    "$$\n",
    "\n",
    "For simplicity, we will assume hypothesis with zero intercept.\n",
    "\n",
    "\n",
    "## Cost\n",
    "\n",
    "$$\n",
    "cost(W) = {1 \\over m} {\\sum_{i=1}^m} (Wx_i-y_i)^2\n",
    "$$\n",
    "\n",
    "The cost function is defined as the mean of the squared difference between the hypothesis and the y-values."
   ]
  },
  {
   "cell_type": "markdown",
   "metadata": {},
   "source": [
    "## Libraries"
   ]
  },
  {
   "cell_type": "code",
   "execution_count": 1,
   "metadata": {},
   "outputs": [
    {
     "name": "stdout",
     "output_type": "stream",
     "text": [
      "TensorFlow Version: 2.0.0\n"
     ]
    }
   ],
   "source": [
    "import numpy as np\n",
    "import tensorflow as tf\n",
    "import matplotlib.pyplot as plt\n",
    "\n",
    "print(\"TensorFlow Version: %s\" % (tf.__version__))"
   ]
  },
  {
   "cell_type": "markdown",
   "metadata": {},
   "source": [
    "## Data"
   ]
  },
  {
   "cell_type": "code",
   "execution_count": 2,
   "metadata": {},
   "outputs": [],
   "source": [
    "X = np.array([1,2,3,4,5])\n",
    "Y = np.array([1,2,3,4,5])"
   ]
  },
  {
   "cell_type": "markdown",
   "metadata": {},
   "source": [
    "## Defining cost function with numpy"
   ]
  },
  {
   "cell_type": "code",
   "execution_count": 3,
   "metadata": {},
   "outputs": [],
   "source": [
    "def cost_func(W, X, Y):\n",
    "    err = 0\n",
    "    for i in range(len(X)):\n",
    "        err += (W*X[i]-Y[i])**2\n",
    "    cost = err / len(X)\n",
    "    return cost"
   ]
  },
  {
   "cell_type": "markdown",
   "metadata": {},
   "source": [
    "Let's make 100 intervals between -2 and 4, and look at the cost changes with these weights."
   ]
  },
  {
   "cell_type": "code",
   "execution_count": 4,
   "metadata": {
    "scrolled": true
   },
   "outputs": [
    {
     "name": "stdout",
     "output_type": "stream",
     "text": [
      "W: -0.8484848484848484 \n",
      "Cost: 37.58585858585859 \n",
      "\n",
      "W: 0.36363636363636376 \n",
      "Cost: 4.454545454545453 \n",
      "\n",
      "W: 1.5757575757575757 \n",
      "Cost: 3.646464646464646 \n",
      "\n",
      "W: 2.787878787878788 \n",
      "Cost: 35.161616161616166 \n",
      "\n",
      "W: 4.0 \n",
      "Cost: 99.0 \n",
      "\n"
     ]
    }
   ],
   "source": [
    "cost_list = []\n",
    "x_range = np.linspace(-2, 4, num=100)\n",
    "for feed_W in x_range:\n",
    "    \n",
    "    curr_cost = cost_func(feed_W, X, Y)\n",
    "    cost_list.append(curr_cost)\n",
    "    \n",
    "    if len(cost_list) % 20 == 0:\n",
    "        print(\"W: %s \\nCost: %s \\n\" % (feed_W, curr_cost))"
   ]
  },
  {
   "cell_type": "markdown",
   "metadata": {},
   "source": [
    "Among the weights set above, when the weight is about 1, the cost is the smallest as 0."
   ]
  },
  {
   "cell_type": "code",
   "execution_count": 5,
   "metadata": {},
   "outputs": [
    {
     "name": "stdout",
     "output_type": "stream",
     "text": [
      "Optimal W: 0.9696969696969697\n",
      "Optimal Cost: 0.010101010101010083\n"
     ]
    }
   ],
   "source": [
    "minimum_index = cost_list.index(min(cost_list))\n",
    "optimal_W = x_range[minimum_index]\n",
    "optimal_cost = cost_list[minimum_index]\n",
    "\n",
    "print(\"Optimal W: %s\" % optimal_W)\n",
    "print(\"Optimal Cost: %s\" % optimal_cost)"
   ]
  },
  {
   "cell_type": "code",
   "execution_count": 6,
   "metadata": {},
   "outputs": [
    {
     "data": {
      "image/png": "[encoded data removed]",
      "text/plain": [
       "<Figure size 432x288 with 1 Axes>"
      ]
     },
     "metadata": {
      "needs_background": "light"
     },
     "output_type": "display_data"
    }
   ],
   "source": [
    "plt.title('Cost according to W', size=15)\n",
    "plt.plot(x_range, cost_list, color='orange')\n",
    "plt.axvline(x=optimal_W, color='red')\n",
    "plt.xlabel('Weights')\n",
    "plt.ylabel('Cost')\n",
    "plt.show()"
   ]
  },
  {
   "cell_type": "markdown",
   "metadata": {},
   "source": [
    "## How to define Cost Function in TensorFlow 2.0\n",
    "\n",
    "Now let's minimize the cost with TensorFlow."
   ]
  },
  {
   "cell_type": "code",
   "execution_count": 7,
   "metadata": {},
   "outputs": [],
   "source": [
    "X = np.array([1,2,3,4,5])\n",
    "Y = np.array([1,2,3,4,5])"
   ]
  },
  {
   "cell_type": "code",
   "execution_count": 8,
   "metadata": {},
   "outputs": [],
   "source": [
    "def cost_func(W, X, Y):\n",
    "    \n",
    "    hypothesis = W*X\n",
    "    cost = tf.reduce_mean(tf.square(hypothesis-Y))\n",
    "    \n",
    "    return cost"
   ]
  },
  {
   "cell_type": "code",
   "execution_count": 9,
   "metadata": {
    "scrolled": true
   },
   "outputs": [
    {
     "name": "stdout",
     "output_type": "stream",
     "text": [
      "W: -0.8484848484848484 \n",
      "Cost: tf.Tensor(37.58585858585859, shape=(), dtype=float64) \n",
      "\n",
      "W: 0.36363636363636376 \n",
      "Cost: tf.Tensor(4.454545454545453, shape=(), dtype=float64) \n",
      "\n",
      "W: 1.5757575757575757 \n",
      "Cost: tf.Tensor(3.646464646464646, shape=(), dtype=float64) \n",
      "\n",
      "W: 2.787878787878788 \n",
      "Cost: tf.Tensor(35.161616161616166, shape=(), dtype=float64) \n",
      "\n",
      "W: 4.0 \n",
      "Cost: tf.Tensor(99.0, shape=(), dtype=float64) \n",
      "\n"
     ]
    }
   ],
   "source": [
    "cost_list = []\n",
    "x_range = np.linspace(-2, 4, num=100)\n",
    "for feed_W in x_range:\n",
    "    \n",
    "    curr_cost = cost_func(feed_W, X, Y)\n",
    "    cost_list.append(curr_cost)\n",
    "    \n",
    "    if len(cost_list) % 20 == 0:\n",
    "        print(\"W: %s \\nCost: %s \\n\" % (feed_W, curr_cost))"
   ]
  },
  {
   "cell_type": "code",
   "execution_count": 10,
   "metadata": {},
   "outputs": [
    {
     "name": "stdout",
     "output_type": "stream",
     "text": [
      "Optimal W: 0.9696969696969697\n",
      "Optimal Cost: 0.010101010101010083\n"
     ]
    }
   ],
   "source": [
    "minimum_index = cost_list.index(min(cost_list))\n",
    "optimal_W = x_range[minimum_index]\n",
    "optimal_cost = cost_list[minimum_index]\n",
    "\n",
    "print(\"Optimal W: %s\" % optimal_W)\n",
    "print(\"Optimal Cost: %s\" % optimal_cost.numpy())"
   ]
  },
  {
   "cell_type": "code",
   "execution_count": 11,
   "metadata": {},
   "outputs": [
    {
     "data": {
      "image/png": "[encoded data removed]",
      "text/plain": [
       "<Figure size 432x288 with 1 Axes>"
      ]
     },
     "metadata": {
      "needs_background": "light"
     },
     "output_type": "display_data"
    }
   ],
   "source": [
    "plt.title('Cost according to W', size=15)\n",
    "plt.plot(x_range, cost_list, color='orange')\n",
    "plt.axvline(x=optimal_W, color='red')\n",
    "plt.xlabel('Weights')\n",
    "plt.ylabel('Cost')\n",
    "plt.show()"
   ]
  },
  {
   "cell_type": "markdown",
   "metadata": {},
   "source": [
    "## Gradient Descent"
   ]
  },
  {
   "cell_type": "markdown",
   "metadata": {},
   "source": [
    "$$\n",
    "cost(W) = {1 \\over m} {\\sum_{i=1}^m} (Wx_i-y_i)^2\n",
    "$$\n",
    "\n",
    "$$\n",
    "W:=W-\\alpha{1\\over m} {\\sum_{i=1}^m} (Wx_i-y_i) x_i\n",
    "$$"
   ]
  },
  {
   "cell_type": "markdown",
   "metadata": {},
   "source": [
    "```python\n",
    "alpha = 0.01\n",
    "gradient = tf.reduce_mean(tf.multiply(tf.multiply(W, X) - Y, X))\n",
    "descent = W - tf.multiply(alpha, gradient)\n",
    "W.assign(descent)\n",
    "```\n",
    "\n",
    "Use the derivative of the Cost function for W to update Weights."
   ]
  },
  {
   "cell_type": "code",
   "execution_count": 12,
   "metadata": {
    "scrolled": true
   },
   "outputs": [
    {
     "name": "stdout",
     "output_type": "stream",
     "text": [
      "#0 \t W: [0.02011158] \t Cost: 13.3341675\n",
      "#50 \t W: [0.99711144] \t Cost: 0.00011587101\n",
      "#100 \t W: [0.99999154] \t Cost: 1.0004442e-09\n",
      "#150 \t W: [0.99999976] \t Cost: 5.2295944e-13\n",
      "#200 \t W: [0.99999976] \t Cost: 5.2295944e-13\n",
      "#250 \t W: [0.99999976] \t Cost: 5.2295944e-13\n"
     ]
    }
   ],
   "source": [
    "tf.random.set_seed(2020)\n",
    "\n",
    "x_data = [1,2,3,4,5]\n",
    "y_data = [1,3,5,7,9]\n",
    "\n",
    "W = tf.Variable(tf.random.normal([1], mean=0.0))\n",
    "\n",
    "for step in range(300):\n",
    "    \n",
    "    hypothesis = W * X\n",
    "    cost = tf.reduce_mean(tf.square(hypothesis-Y))\n",
    "    \n",
    "    alpha = 0.01\n",
    "    gradient = tf.reduce_mean(tf.multiply(tf.multiply(W, X) - Y, X))\n",
    "    descent = W - tf.multiply(alpha, gradient)\n",
    "    W.assign(descent)\n",
    "    \n",
    "    if step % 50 == 0:\n",
    "        print(\"#%s \\t W: %s \\t Cost: %s\" % (step, W.numpy(), cost.numpy()))"
   ]
  }
 ],
 "metadata": {
  "kernelspec": {
   "display_name": "Python 3",
   "language": "python",
   "name": "python3"
  },
  "language_info": {
   "codemirror_mode": {
    "name": "ipython",
    "version": 3
   },
   "file_extension": ".py",
   "mimetype": "text/x-python",
   "name": "python",
   "nbconvert_exporter": "python",
   "pygments_lexer": "ipython3",
   "version": "3.7.4"
  }
 },
 "nbformat": 4,
 "nbformat_minor": 2
}
